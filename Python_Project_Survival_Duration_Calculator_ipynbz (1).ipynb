{
  "nbformat": 4,
  "nbformat_minor": 0,
  "metadata": {
    "colab": {
      "provenance": []
    },
    "kernelspec": {
      "name": "python3",
      "display_name": "Python 3"
    },
    "language_info": {
      "name": "python"
    }
  },
  "cells": [
    {
      "cell_type": "code",
      "source": [
        "def duration_of_survival():\n",
        "\n",
        "    age = int(input(\"What's your age? \"))\n",
        "\n",
        "    unit = input(\"Please choose time unit: Months, Weeks, Days, Hours, Minutes, Seconds. \\nNote: You can write the first letter or the full name of the time unit. \").strip().lower()\n",
        "\n",
        "    months = age * 12\n",
        "    weeks = months * 4\n",
        "    days = age * 365\n",
        "    hours = days * 24\n",
        "    minutes = hours * 60\n",
        "    seconds = minutes * 60\n",
        "\n",
        "\n",
        "    if unit == 'months' or unit == 'm':\n",
        "        print(f'You lived for {months:,} Months')\n",
        "\n",
        "    elif unit == 'weeks' or unit == 'w':\n",
        "        print(f'You lived for {weeks:,} Weeks')\n",
        "\n",
        "    elif unit == 'days' or unit == 'd':\n",
        "        print(f'You lived for {days:,} Days')\n",
        "\n",
        "    elif unit == 'hours' or unit == 'h':\n",
        "        print(f'You lived for {hours:,} Hours')\n",
        "\n",
        "    elif unit == 'minutes' or unit == 'mi':\n",
        "        print(f'You lived for {minutes:,} Minutes')\n",
        "\n",
        "    elif unit == 'seconds' or unit == 's':\n",
        "        print(f'You lived for {seconds:,} Seconds')\n",
        "\n",
        "    else:\n",
        "        print('Your choice is not available')\n",
        "\n",
        "    return"
      ],
      "metadata": {
        "id": "vdkUYUHuVMmo"
      },
      "execution_count": null,
      "outputs": []
    },
    {
      "cell_type": "code",
      "source": [
        "duration_of_survival()"
      ],
      "metadata": {
        "id": "hjZH6IhXXmN6",
        "colab": {
          "base_uri": "https://localhost:8080/"
        },
        "outputId": "0adc4b65-d342-4d6b-82c5-4787573ef15e"
      },
      "execution_count": null,
      "outputs": [
        {
          "output_type": "stream",
          "name": "stdout",
          "text": [
            "What's your age? 24\n",
            "Please choose time unit: Months, Weeks, Days, Hours, Minutes, Seconds. \n",
            "Note: You can write the first letter or the full name of the time unit. H\n",
            "You lived for 210,240 Hours\n"
          ]
        }
      ]
    },
    {
      "cell_type": "code",
      "source": [
        "duration_of_survival()"
      ],
      "metadata": {
        "colab": {
          "base_uri": "https://localhost:8080/"
        },
        "id": "EOvM_GzNZHAr",
        "outputId": "e7f97be9-1ad2-445a-ebe7-2db6969c53c5"
      },
      "execution_count": null,
      "outputs": [
        {
          "output_type": "stream",
          "name": "stdout",
          "text": [
            "What's your age? 24\n",
            "Please choose time unit: Months, Weeks, Days, Hours, Minutes, Seconds. \n",
            "Note: You can write the first letter or the full name of the time unit. H\n",
            "You lived for 210,240 Hours\n"
          ]
        }
      ]
    },
    {
      "cell_type": "code",
      "source": [
        "duration_of_survival()"
      ],
      "metadata": {
        "colab": {
          "base_uri": "https://localhost:8080/"
        },
        "id": "h5xcH-9NXqpf",
        "outputId": "7f007f4d-adaf-4266-c52e-6a8d71fbe525"
      },
      "execution_count": null,
      "outputs": [
        {
          "output_type": "stream",
          "name": "stdout",
          "text": [
            "What's your age? 24\n",
            "Please choose time unit: Months, Weeks, Days, Hours, Minutes, Seconds. \n",
            "Note: You can write the first letter or the full name of the time unit. H\n",
            "You lived for 210,240 Hours\n"
          ]
        }
      ]
    }
  ]
}